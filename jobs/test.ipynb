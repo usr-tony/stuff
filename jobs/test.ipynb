{
 "cells": [
  {
   "cell_type": "code",
   "execution_count": null,
   "metadata": {},
   "outputs": [],
   "source": [
    "import pandas as pd\n",
    "import re\n",
    "pd.options.display.max_rows = 99\n",
    "from plotly import plot\n",
    "from time import time\n",
    "con = 'sqlite:///seek/jobs.db'"
   ]
  },
  {
   "cell_type": "code",
   "execution_count": null,
   "metadata": {},
   "outputs": [],
   "source": [
    "jobs = pd.read_sql(\"select * from jobs where city like 'sydney'\", con=con)\n",
    "jobs.time = jobs.time.astype('datetime64[s]')"
   ]
  },
  {
   "cell_type": "code",
   "execution_count": null,
   "metadata": {},
   "outputs": [],
   "source": [
    "from datetime import timedelta\n",
    "periods = []\n",
    "\n",
    "dr = pd.date_range(jobs.time.iloc[0], end=jobs.time.iloc[-1] + timedelta(30), freq=timedelta(30))\n",
    "jobs['bin'] = pd.cut(jobs.time, dr, include_lowest=True)\n",
    "bybin = jobs.groupby('bin').id.count().to_frame()\n",
    "index = []\n",
    "for row in bybin.index:\n",
    "    index.append(row.left)\n",
    "\n",
    "bybin.index = index\n",
    "dr = jobs.time.iloc[-1] - jobs.time.iloc[0]\n",
    "print('monthly average:', len(jobs) / (dr / timedelta(30)))\n",
    "plot(bybin, kind='bar', template='plotly_dark')"
   ]
  }
 ],
 "metadata": {
  "kernelspec": {
   "display_name": "Python 3 (ipykernel)",
   "language": "python",
   "name": "python3"
  },
  "language_info": {
   "codemirror_mode": {
    "name": "ipython",
    "version": 3
   },
   "file_extension": ".py",
   "mimetype": "text/x-python",
   "name": "python",
   "nbconvert_exporter": "python",
   "pygments_lexer": "ipython3",
   "version": "3.10.12"
  },
  "vscode": {
   "interpreter": {
    "hash": "60f544eaa8bde219a121d7f748a9405a8f1c239b745fb469449eb43bad9e0e73"
   }
  }
 },
 "nbformat": 4,
 "nbformat_minor": 2
}
