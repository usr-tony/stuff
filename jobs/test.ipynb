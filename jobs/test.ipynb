{
 "cells": [
  {
   "cell_type": "code",
   "execution_count": null,
   "metadata": {},
   "outputs": [],
   "source": [
    "import pandas as pd\n",
    "import re\n",
    "pd.options.display.max_rows = 99\n",
    "from time import time\n",
    "import vaex\n",
    "\n",
    "con = 'sqlite:///seek/jobs.db'"
   ]
  },
  {
   "cell_type": "code",
   "execution_count": null,
   "metadata": {},
   "outputs": [],
   "source": [
    "jobs = pd.read_sql(f'''\n",
    "    select jobs.*, details.details from jobs \n",
    "    left join details on jobs.id = details.job_id\n",
    "    where jobs.time > {time() - 60 * 60 * 24 * 14}\n",
    "    and sector like '%information%'\n",
    "''', con='sqlite:///seek/jobs.db')\n",
    "filtered = jobs[\n",
    "    jobs.title.str.contains(r'(software|data) (developer|engineer)', flags=re.IGNORECASE) &\n",
    "    ~jobs.title.str.contains(r'senior|staff|lead', flags=re.IGNORECASE)\n",
    "].iloc[21:]\n",
    "filtered.url = 'https://seek.com.au/job' + filtered.id.astype(str)\n",
    "filtered.drop(columns=['details']).to_excel('applications.xlsx', index=False)\n",
    "for i in range(len(filtered)):\n",
    "    row = filtered.iloc[i].drop_duplicates()\n",
    "    print('https://seek.com.au/job/' + str(row.id), row.title, row.company)"
   ]
  },
  {
   "cell_type": "code",
   "execution_count": null,
   "metadata": {},
   "outputs": [],
   "source": [
    "import requests\n",
    "import boto3\n",
    "import json\n",
    "import seek\n",
    "import pandas as pd\n",
    "import sqlite3"
   ]
  },
  {
   "cell_type": "code",
   "execution_count": null,
   "metadata": {},
   "outputs": [],
   "source": [
    "with sqlite3.connect('./seek/jobs.db') as con:\n",
    "    con.execute('alter table jobs add column salary text')\n",
    "    con.commit()\n",
    "    "
   ]
  }
 ],
 "metadata": {
  "kernelspec": {
   "display_name": "Python 3 (ipykernel)",
   "language": "python",
   "name": "python3"
  },
  "language_info": {
   "codemirror_mode": {
    "name": "ipython",
    "version": 3
   },
   "file_extension": ".py",
   "mimetype": "text/x-python",
   "name": "python",
   "nbconvert_exporter": "python",
   "pygments_lexer": "ipython3",
   "version": "3.10.4"
  },
  "vscode": {
   "interpreter": {
    "hash": "60f544eaa8bde219a121d7f748a9405a8f1c239b745fb469449eb43bad9e0e73"
   }
  }
 },
 "nbformat": 4,
 "nbformat_minor": 2
}
