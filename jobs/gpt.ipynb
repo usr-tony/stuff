{
 "cells": [
  {
   "cell_type": "code",
   "execution_count": null,
   "metadata": {},
   "outputs": [],
   "source": [
    "from apply import gpt, GPT4\n"
   ]
  },
  {
   "cell_type": "code",
   "execution_count": null,
   "metadata": {},
   "outputs": [],
   "source": [
    "res = gpt('''\n",
    "Requirements\n",
    "Bachelor's degree in CS or relevant discipline\n",
    "Minimum years of experience as a full stack engineer\n",
    "Responsibilities\n",
    "Work with Design and Product teams to build a web UI that is beautiful, performant, and well-engineered\n",
    "Architect and build the backend/api layer to optimize for performance, growth, scalability, ease of future development, and code quality\n",
    "Write unit and functional tests to ensure maximum code and app quality\n",
    "Investigate, debug, and fix user-reported production issues\n",
    "Provide mentorship and guidance to other team members\n",
    "Work with the team to influence technology direction\n",
    "Ideate and suggest product improvements and features through a symbiotic relationship with Product team\n",
    "Work within a highly cross-functional team, iterating on process and making your own suggestions for improvements\n",
    "Desired Qualifications\n",
    "Prior experience with React (Next.js) and Apollo/GraphQL API\n",
    "Prior experience with PHP (Wordpress) and REST API\n",
    "Familiarity with MySQL database, ElasticSearch, and DynamoDB\n",
    "Experience with AWS\n",
    "Given the above job description answer the question: \n",
    "Why do you want to work for the athletic?\n",
    "''', system_msg=\"Answer the question like if you were a job applicant, answer in 3-4 sentences\", model=GPT4)"
   ]
  },
  {
   "cell_type": "code",
   "execution_count": null,
   "metadata": {},
   "outputs": [],
   "source": [
    "print(res.choices[0].message.content)"
   ]
  },
  {
   "cell_type": "code",
   "execution_count": null,
   "metadata": {},
   "outputs": [],
   "source": [
    "from seek.scrape import node_scraper, CON\n",
    "\n"
   ]
  },
  {
   "cell_type": "code",
   "execution_count": null,
   "metadata": {},
   "outputs": [],
   "source": [
    "import pandas as pd\n",
    "\n",
    "\n",
    "pd.read_sql('select max(id) from jobs', con=CON)"
   ]
  }
 ],
 "metadata": {
  "kernelspec": {
   "display_name": "jobs",
   "language": "python",
   "name": "python3"
  },
  "language_info": {
   "codemirror_mode": {
    "name": "ipython",
    "version": 3
   },
   "file_extension": ".py",
   "mimetype": "text/x-python",
   "name": "python",
   "nbconvert_exporter": "python",
   "pygments_lexer": "ipython3",
   "version": "3.12.2"
  }
 },
 "nbformat": 4,
 "nbformat_minor": 2
}
