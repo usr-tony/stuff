{
 "cells": [
  {
   "cell_type": "code",
   "execution_count": 2,
   "metadata": {},
   "outputs": [],
   "source": [
    "from apply import gpt, GPT4\n"
   ]
  },
  {
   "cell_type": "code",
   "execution_count": 11,
   "metadata": {},
   "outputs": [
    {
     "name": "stdout",
     "output_type": "stream",
     "text": [
      "cost: $0.00389\n"
     ]
    }
   ],
   "source": [
    "res = gpt('''\n",
    "Requirements\n",
    "Bachelor's degree in CS or relevant discipline\n",
    "Minimum years of experience as a full stack engineer\n",
    "Responsibilities\n",
    "Work with Design and Product teams to build a web UI that is beautiful, performant, and well-engineered\n",
    "Architect and build the backend/api layer to optimize for performance, growth, scalability, ease of future development, and code quality\n",
    "Write unit and functional tests to ensure maximum code and app quality\n",
    "Investigate, debug, and fix user-reported production issues\n",
    "Provide mentorship and guidance to other team members\n",
    "Work with the team to influence technology direction\n",
    "Ideate and suggest product improvements and features through a symbiotic relationship with Product team\n",
    "Work within a highly cross-functional team, iterating on process and making your own suggestions for improvements\n",
    "Desired Qualifications\n",
    "Prior experience with React (Next.js) and Apollo/GraphQL API\n",
    "Prior experience with PHP (Wordpress) and REST API\n",
    "Familiarity with MySQL database, ElasticSearch, and DynamoDB\n",
    "Experience with AWS\n",
    "Given the above job description answer the question: \n",
    "Why do you want to work for the athletic?\n",
    "''', system_msg=\"Answer the question like if you were a job applicant, answer in 3-4 sentences\", model=GPT4)"
   ]
  },
  {
   "cell_type": "code",
   "execution_count": 12,
   "metadata": {},
   "outputs": [
    {
     "name": "stdout",
     "output_type": "stream",
     "text": [
      "I am excited about the opportunity to work for The Athletic because it aligns perfectly with my professional skills and personal interests. With a Bachelor's degree in Computer Science and extensive experience as a full-stack engineer, I am confident in my ability to contribute to building a performant and beautiful web UI, as well as architecting a robust backend. My prior experience with React, GraphQL, and AWS, among other technologies listed, positions me to make an immediate impact on your team. Moreover, the prospect of working in a cross-functional team and providing mentorship is something I am passionate about, and I am eager to help influence the technology direction at The Athletic while also growing with the company.\n"
     ]
    }
   ],
   "source": [
    "print(res.choices[0].message.content)"
   ]
  },
  {
   "cell_type": "code",
   "execution_count": 1,
   "metadata": {},
   "outputs": [],
   "source": [
    "from seek.scrape import node_scraper, CON\n",
    "\n"
   ]
  },
  {
   "cell_type": "code",
   "execution_count": 5,
   "metadata": {},
   "outputs": [
    {
     "data": {
      "text/html": [
       "<div>\n",
       "<style scoped>\n",
       "    .dataframe tbody tr th:only-of-type {\n",
       "        vertical-align: middle;\n",
       "    }\n",
       "\n",
       "    .dataframe tbody tr th {\n",
       "        vertical-align: top;\n",
       "    }\n",
       "\n",
       "    .dataframe thead th {\n",
       "        text-align: right;\n",
       "    }\n",
       "</style>\n",
       "<table border=\"1\" class=\"dataframe\">\n",
       "  <thead>\n",
       "    <tr style=\"text-align: right;\">\n",
       "      <th></th>\n",
       "      <th>max(id)</th>\n",
       "    </tr>\n",
       "  </thead>\n",
       "  <tbody>\n",
       "    <tr>\n",
       "      <th>0</th>\n",
       "      <td>72217744</td>\n",
       "    </tr>\n",
       "  </tbody>\n",
       "</table>\n",
       "</div>"
      ],
      "text/plain": [
       "    max(id)\n",
       "0  72217744"
      ]
     },
     "execution_count": 5,
     "metadata": {},
     "output_type": "execute_result"
    }
   ],
   "source": [
    "import pandas as pd\n",
    "\n",
    "\n",
    "pd.read_sql('select max(id) from jobs', con=CON)"
   ]
  },
  {
   "cell_type": "code",
   "execution_count": 2,
   "metadata": {},
   "outputs": [
    {
     "name": "stdout",
     "output_type": "stream",
     "text": [
      "start exception: 'shortLabel' [72217745] {'ResponseMetadata': {'RequestId': '1cc3c474-08b9-44d2-8274-c79f6a20af21', 'HTTPStatusCode': 200, 'HTTPHeaders': {'date': 'Mon, 01 Jan 2024 12:21:57 GMT', 'content-type': 'application/json', 'content-length': '15521', 'connection': 'keep-alive', 'x-amzn-requestid': '1cc3c474-08b9-44d2-8274-c79f6a20af21', 'x-amzn-remapped-content-length': '0', 'x-amz-executed-version': '$LATEST', 'x-amzn-trace-id': 'root=1-6592ae65-54c777c85b0de8943a927aaa;sampled=0;lineage=a0b1dfaf:0'}, 'RetryAttempts': 0}, 'StatusCode': 200, 'ExecutedVersion': '$LATEST', 'Payload': <botocore.response.StreamingBody object at 0x137a26aa0>} \n",
      " [{'appConfig': {'brand': 'seek', 'language': 'en', 'zone': 'anz-1', 'zoneFeatures': {'COMPANY_PROFILE_CAROUSEL': True, 'QUICK_SEARCH_ENABLED': True, 'QUICK_SEARCH_CLASSIFICATIONS': True, 'LMIS_ENABLED': True, 'NUDGE_ENABLED': True, 'DNS_PREFETCH_DOMAIN': '//chalice-experience.cloud.seek.com.au/', 'SHOW_HOMEPAGE_BANNER': True, 'SHOW_FLOATING_SAVE_SEARCH': True, 'SHOULD_OPEN_APPLY_IN_NEW_TAB': False, 'SHOULD_SHORTEN_HEADER': False, 'SHOW_JOBCARD_TEASER_IN_SPLITVIEW': True, 'AUTO_SELECT_SPLIT_VIEW_FIRST_JOB': False, 'SHOW_MARKETING_AD_SPLIT_VIEW': True, 'SHOW_STICKY_APPLY_ON_DESKTOP': True, 'SERP_KEYWORD_TEXTFIELD': True}, 'timedBanners': {'privatePolicyBanner': {'privatePolicy': {'displayDates': {'startDate': '2023-10-15T00:00:00.000Z', 'endDate': '2023-11-14T23:59:59.000Z'}, 'type': 'PrivacyPolicy'}}}, 'defaultLocale': 'en-AU', 'availableLocales': ['en-AU'], 'BRANCH_IO_KEY': 'key_live_hpVf26efkYxTQTj88NJzZpchsqglHGRe', 'selectedLocale': 'en-AU'}, 'experiments': {'splitView': {'name': 'SPLIT_VIEW_ANZ', 'variation': {'name': 'outsider', 'index': '2'}, 'num': 4}}, 'featureFlags': {'branchBannerPreview': False, 'isBranchEnabledFlag': False, 'splitView': False, 'seoMetaTags': False, 'showHomepageBanner': True, 'showFloatingSaveSearch': True, 'shouldOpenApplyInNewTab': False, 'autoSelectSplitViewFirstJob': False, 'showStickyApplyOnDesktop': True, 'showMarketingAdSplitView': True}, 'jobdetails': {'fraudReport': {}, 'jobPending': False, 'result': {'__typename': 'JobDetails', 'job': {'__typename': 'Job', 'tracking': {'__typename': 'JobTracking', 'adProductType': 'Classic', 'classificationInfo': {'__typename': 'JobTrackingClassificationInfo', 'classificationId': '6123', 'classification': 'Education & Training', 'subClassificationId': '6126', 'subClassification': 'Management - Schools'}, 'hasRoleRequirements': False, 'isPrivateAdvertiser': False, 'locationInfo': {'__typename': 'JobTrackingLocationInfo', 'area': None, 'location': 'Bendigo, Goldfields & Macedon Ranges', 'locationIds': ['13418']}, 'workTypeIds': '243', 'postedTime': '18d ago'}, 'id': '72217745', 'title': 'Business Manager', 'phoneNumber': None, 'isExpired': True, 'isLinkOut': True, 'contactMatches': [{'__typename': 'ContactMatches', 'type': 'Email', 'value': 'marrung@education.vic.gov.au'}], 'isVerified': True, 'abstract': 'Our school has a population of around 580 students and features a very strong community focus. Kyneton High School provides a comprehensive enrichm...', 'content': \"<div><div>\\n<strong>Location Profile</strong><br />\\n<div>\\n<div>\\n<p>Kyneton is an historic town with a population of approximately 7000, situated on the Calder Highway 85 km north\\xa0west of Melbourne. It is rapidly growing with families moving into the town from metropolitan areas to enjoy a\\xa0lifestyle choice that enables them to take advantage of a rural setting close to urban work options. The town has an\\xa0effective rail centre with a fast-rail service that enables people to commute to Melbourne or Bendigo on a daily\\xa0basis.</p>\\n<p>Kyneton High School is over 100 years old and has a proud tradition of providing a broad range of\\xa0excellent educational opportunities in a safe, inclusive and friendly environment. Our vision is for Kyneton High\\xa0School to be the school of choice for parents and students across the district. The first stage of a significant program of building works has been completed, providing a new Training and Innovation Hub and modern\\xa0refurbished classrooms. A second stage of major building works commenced in 2022.</p>\\n<p>Our school has a population of around 580 students and features a very strong community focus. Kyneton High School provides a comprehensive enrichment program with students having the\\xa0opportunity to participate in a wide range of co-curricular activities. As the provider of state secondary education in Kyneton, the school is open to all learners and proud of its diversity. Kyneton High\\xa0School is seeking passionate, committed staff who want to be part of an exciting and challenging school\\xa0improvement journey.</p>\\n</div>\\n</div>\\n</div></div>\\n<div><div>\\n<strong>Selection Criteria</strong><br />\\n<div>\\n<div>\\n<p><strong>SC1:\\xa0 \\xa0</strong>Demonstrated ability to confidently and expertly manage all financial and human resource areas relating to the requirements of a Victorian Government School, utilising Department of Education and Training software systems, with a proven capacity to support the Principal and leadership team through the timely and accurate management of these functions.</p>\\n<p><strong>SC2</strong>:\\xa0 A demonstrated ability to contribute to strategic decision making within the school by providing advice, information and recommendations to the Principal, the Leadership Team and School Council on operational issues relating to finance, personnel and administration systems.</p>\\n<p><strong>SC3</strong>:\\xa0 Demonstrated high-level capacity to lead an office team, including the capacity for directing the work of others.</p>\\n<p><strong>SC4</strong>:\\xa0 Demonstrated high levels of professional integrity and sensitivity.</p>\\n<p><strong>SC5:</strong>\\xa0\\xa0Demonstrated high-level oral and written communication and administrative skills enabling effective interaction with Principal, Leadership team and all staff as well as students, parents and the wider community.</p>\\n<p><strong>SC6: \\xa0</strong>Demonstrated high-level organizational skills, including the capacity to prioritise workflows</p>\\n</div>\\n</div>\\n</div></div>\\n<div><div>\\n<strong>Role</strong><br />\\n<div>\\n<div>\\n<p>Attendance during school holidays is a requirement of this role.</p>\\n<p>Will usually be a member of the leadership team who is accountable for the development and delivery of key services that are integral to the effective operation of a school/s.\\xa0\\xa0Provides a range of services and/or undertakes the analysis of complex problems that form part of the policy framework.</p>\\n<p>A school or group of schools would need to have the necessary diversity and complexity to create a role at range 5.\\xa0\\xa0Management of a major school or district initiative, project or Department targeted strategy would be an indicator depending on the breadth of management responsibilities.</p>\\n<p>An education support class position supports the educational services being provided to students, but must not include duties of teaching as defined in clause 2.6.1 of the Education and Training Reform Act 2006 (Vic) or its successor.\\xa0\\xa0Supervision of students cannot be required except where it is an integral part of the employee's position or involves supervision of students individually or in small groups, in controlled circumstances, where the responsibility for students remains clearly with a teacher.</p>\\n</div>\\n</div>\\n</div></div>\\n<div><div>\\n<strong>Responsibilities</strong><br />\\n<div>\\n<div>\\n<p><strong>Deliver School Services</strong></p>\\n<ul> <li>Manage the design and production of school publications and documents</li>\\n</ul>\\n<p><strong>Finance</strong></p>\\n<ul> <li>Manage and direct the preparation of annual budgets and regular financial statements and contribute to the financial decision making of the school.</li> <li>Prepare funding submissions for the leadership team and school council.</li> <li>Direct the accounting processes of the school and ensure that all funds, including school investments, are effectively accounted for according to Treasury regulations.</li> <li>Provide advice to staff on spending against budget in respect to faculties, programs and other school projects.</li> <li>Administer government grants and other school income.</li> <li>Manage fund raising activities.</li>\\n</ul>\\n<p><strong>General Administration</strong></p>\\n<ul> <li>Ensure the provision of a range of administrative support functions for the Principal and teaching staff.</li> <li>Provide administrative support to external service providers as required.</li> <li>Manage the processing of student admissions, registrations, enrolments and transfers.</li> <li>Provide required level of administrative support for school events, functions and projects.</li> <li>Implement induction programs for new staff, volunteers and other workers to the school.</li>\\n</ul>\\n<p><strong>Human Resources</strong></p>\\n<ul> <li>Research, plan and prepare development programs for support staff.</li> <li>Manage recruitment procedures.</li> <li>Provide authoritative advice to the leadership team on support structures and work practices.</li> <li>Assist in the development of work practices that ensure appropriate occupational health and safety standards are maintained.</li> <li>Manage procedures relating to employee relations issues.</li> <li>Assist in the development of human resource planning.</li>\\n</ul>\\n<p><strong>Manage School Resources</strong></p>\\n<ul> <li>Coordinate the use and maintenance of school buildings and equipment.</li> <li>Liaise and negotiate with service providers in respect to the cost and quality of services.</li> <li>Supervise the delivery of contracted services.</li> <li>Manage the development and collection of resource material at the school.</li>\\n</ul>\\n<p><strong>Support School Council</strong></p>\\n<ul> <li>Draft reports and make recommendations on operational issues.</li> <li>Evaluate and report on the operational efficiency of computer systems in production, making recommendations for improvement where appropriate.</li> <li>Develop techniques and procedures that will affect work practices beyond the work place.</li> <li>Manage a technical program with a broad scope across the school.</li>\\n</ul>\\n</div>\\n</div>\\n</div></div>\\n<div><div>\\n<strong>Who May Apply</strong><br />\\n<div>\\n<div>\\n<p>Individuals with the aptitude, experience and/or qualifications to fulfill the specific requirements of the position.</p>\\n</div>\\n</div>\\n</div></div>\\n<div><div>\\n<strong>EEO AND OHS Commitment</strong><br />\\n<div>\\n<div>\\n<p>Applicants seeking part-time employment are encouraged to apply for any teaching service position and, if they are the successful candidate, request a reduced time fraction. Such requests will be negotiated on a case-by-case basis and will be subject to the operational requirements of the school.</p>\\n<p>The Department of Education is committed to the principles of equal opportunity, and diversity and inclusion for all. We value diversity and inclusion in all forms - gender, religion, ethnicity, LGBTIQ+, disability and neurodiversity. Aboriginal and Torres Strait Islander candidates are strongly encouraged to apply for roles within the Department.\\xa0The Department recognises that the provision of family friendly, supportive, safe and harassment free workplaces is essential to high performance and promotes flexible work, diversity and safety across all schools and Department workplaces.\\xa0It is our policy to provide reasonable adjustments for persons with a disability (see\\xa0Workplace adjustment guidelines).</p>\\n<p>Additional support and advice on the recruitment process is available to Aboriginal and/or Torres Strait Islanders from the Koorie Outcomes Division (KOD) via marrung@education.vic.gov.au</p>\\n</div>\\n</div>\\n</div></div>\\n<div><div>\\n<strong>Child Safe Standards</strong><br />\\n<div>\\n<div>\\n<p>Victorian government schools are child safe environments. Our schools actively promote the safety and wellbeing of all students, and all school staff are committed to protecting students from abuse or harm in the school environment, in accordance with their legal obligations including child safe standards. All schools have a Child Safety Code of Conduct consistent with the department's exemplar available at:</p>\\n<p><strong>\\xa0</strong>https://www2.education.vic.gov.au/pal/child-safe-standards/policy</p>\\n</div>\\n</div>\\n</div></div>\\n<div><div>\\n<strong>DE Values</strong><br />\\n<div>\\n<div>\\n<p>The department's employees commit to upholding the department's Values: Responsiveness, Integrity, Impartiality, Accountability, Respect, Leadership and Human Rights. The department's Values complement each school's own values and underpin the behaviours the community expects of Victorian public sector employees,\\xa0including those who work in Victorian Government Schools. Information on the department values is available at:</p>\\n<p><strong>\\xa0</strong>https://www2.education.vic.gov.au/pal/values-department-vps-school-employees/overview</p>\\n</div>\\n</div>\\n</div></div>\\n<div><div>\\n<strong>Conditions of Employment</strong><br />\\n<div>\\n<div>\\n<ul> <li>All staff employed by the Department and schools have access to a broad range of employment conditions and working arrangements.</li> <li>Appointment of successful applicants will be made subject to a satisfactory pre-employment conditions check.</li> <li>A probationary period may apply during the first year of employment and induction and support programs provided.</li> <li>Detailed information on all terms and conditions of employment is available on the Department's Human Resources website at http://www.education.vic.gov.au/hrweb/Pages/default.aspx</li>\\n</ul>\\n</div>\\n</div>\\n</div></div>\", 'status': 'Expired', 'listedAt': {'__typename': 'SeekDateTime', 'label': '18d ago'}, 'salary': None, 'shareLink': 'https://www.seek.com.au/job/72217745?tracking=SHR-WEB-SharedJob-anz-1', 'workTypes': {'__typename': 'JobWorkTypes', 'label': 'Part time'}, 'advertiser': {'__typename': 'Advertiser', 'id': '20730741', 'name': 'Department of Education'}, 'location': {'__typename': 'LocationInfo', 'label': 'Kyneton, Bendigo, Goldfields & Macedon Ranges VIC'}, 'classifications': [{'__typename': 'ClassificationInfo', 'label': 'Management - Schools (Education & Training)'}, {'__typename': 'ClassificationInfo', 'label': 'Government - State (Government & Defence)'}], 'products': {'__typename': 'JobProducts', 'branding': None, 'bullets': None, 'questionnaire': None, 'video': None}}, 'companyReviews': {'__typename': 'CompanyReviews', 'id': '753159', 'name': 'Department of Education VIC', 'fullName': 'Department of Education', 'rating': 3.2, 'reviewCount': 30, 'reviewsUrl': 'https://www.seek.com.au/companies/department-of-education-vic-753159/reviews?jobId=72217745'}, 'companySearchUrl': 'https://www.seek.com.au/Department-of-Education-VIC-jobs/at-this-company', 'learningInsights': None, 'companyTags': [], 'restrictedApplication': {'__typename': 'JobDetailsRestrictedApplication', 'label': None}, 'sourcr': None}, 'pageLoadedCount': 0, 'personalised': None, 'error': False}, 'recentSearches': {'searches': []}, 'lmis': {'SRP': {'content': ''}, 'JDP': {'key': 'JDP'}}, 'location': {'url': 'https://www.seek.com.au/job/72217745', 'country': 'AU', 'prevPathname': '', 'query': {}, 'pageNumber': 1, 'isHomepage': False, 'pageTitle': 'Business Manager', 'pathname': '/job/72217745', 'hostname': 'www.seek.com.au', 'href': 'https://www.seek.com.au/job/72217745', 'port': '', 'protocol': 'https:', 'hash': ''}, 'nudges': {'nudges': [], 'currentNudgeIndex': 0, 'nudgePostError': False, 'nudgesCompleted': False}, 'results': {'results': None, 'isLoading': False, 'isError': False, 'source': '', 'locationWhere': None, 'title': '', 'totalCount': None, 'jobIds': [], 'lastPage': 0, 'paginationParameters': {}, 'sortMode': None, 'solReferenceKeys': [], 'hidden': False, 'relatedSearches': []}, 'saveSearch': {'emailAddress': '', 'errorMessage': '', 'saveable': True, 'status': 'UNSAVED'}, 'search': {'keywordsField': '', 'whereField': '', 'filtersExpanded': False, 'query': {}, 'lastQuery': {}, 'hasLoadedCounts': False, 'refinements': {}}, 'seo': {'canonicalUrl': 'https://www.seek.com.au/job/72217745', 'partners': {'canCrossLink': False}}, 'user': {'authenticated': False, 'firstName': '', 'emailAddress': '', 'userClientId': '', 'testHeaders': {}}, 'ui': {'isPageLoaded': False}, 'banner': {'template': {'items': []}, 'error': None}, '@@redux-hotjar-state': []}]\n"
     ]
    },
    {
     "data": {
      "text/plain": [
       "[]"
      ]
     },
     "execution_count": 2,
     "metadata": {},
     "output_type": "execute_result"
    }
   ],
   "source": [
    "node_scraper([72217745])"
   ]
  }
 ],
 "metadata": {
  "kernelspec": {
   "display_name": "jobs",
   "language": "python",
   "name": "python3"
  },
  "language_info": {
   "codemirror_mode": {
    "name": "ipython",
    "version": 3
   },
   "file_extension": ".py",
   "mimetype": "text/x-python",
   "name": "python",
   "nbconvert_exporter": "python",
   "pygments_lexer": "ipython3",
   "version": "3.10.13"
  }
 },
 "nbformat": 4,
 "nbformat_minor": 2
}
